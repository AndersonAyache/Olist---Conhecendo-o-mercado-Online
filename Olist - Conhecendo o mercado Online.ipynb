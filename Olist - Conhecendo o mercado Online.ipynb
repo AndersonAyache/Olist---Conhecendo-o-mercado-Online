{
 "cells": [
  {
   "cell_type": "markdown",
   "id": "e3a17a1a",
   "metadata": {},
   "source": [
    "# Introdução"
   ]
  },
  {
   "cell_type": "markdown",
   "id": "39e720b1",
   "metadata": {},
   "source": [
    "A modalidade de vendas online já se consolidou em diversos modelos de negócio e continua a crescer a cada dia. Este estudo tem como propósito analisar as vendas realizadas pela empresa Olist, uma das líderes no setor de tecnologia e soluções para vendas online, no período de 2016 a 2018. Através dessa análise, buscamos responder a algumas perguntas fundamentais, tais como:\n",
    "\n",
    "- Quais estados apresentam o maior número de clientes?\n",
    "- Em quais estados há uma presença mais expressiva de vendedores ativos?\n",
    "- Quais estados se destacam em termos de volume de compras?\n",
    "- Quais clientes são os maiores gastadores?\n",
    "- Qual é a média de gastos por estado?\n",
    "- Até que ponto o valor do frete impacta nas decisões de compra?\n",
    "\n",
    "Para abordar essas questões, é essencial analisar os Dataframes disponíveis, os quais contêm informações sobre clientes, vendedores, avaliações, e outros aspectos que abrangem o ciclo completo, desde a compra até a entrega do produto.\n",
    "\n",
    "Ao examinar esses Dataframes, identificamos variáveis cruciais para compreender e responder às perguntas mencionadas, e até mesmo para formular novas questões. No entanto, é imperativo verificar cada variável, pois podem existir valores ausentes, tipos incorretos ou informações imprecisas."
   ]
  },
  {
   "cell_type": "code",
   "execution_count": 19,
   "id": "60229c5b",
   "metadata": {},
   "outputs": [],
   "source": [
    "import pandas as pd"
   ]
  },
  {
   "cell_type": "code",
   "execution_count": 32,
   "id": "a1ecbfb1",
   "metadata": {},
   "outputs": [],
   "source": [
    "clientes = pd.read_csv('dados/olist_customers_dataset.csv')\n",
    "geolocalizacao = pd.read_csv('dados/olist_geolocation_dataset.csv')\n",
    "itens_por_pedido = pd.read_csv('dados/olist_order_items_dataset.csv')\n",
    "pagamentos = pd.read_csv('dados/olist_order_payments_dataset.csv')\n",
    "avaliacao = pd.read_csv('dados/olist_order_reviews_dataset.csv')\n",
    "pedidos = pd.read_csv('dados/olist_orders_dataset.csv')\n",
    "produtos = pd.read_csv('dados/olist_products_dataset.csv')\n",
    "vendedor = pd.read_csv('dados/olist_sellers_dataset.csv')"
   ]
  },
  {
   "cell_type": "code",
   "execution_count": 33,
   "id": "43f02563",
   "metadata": {},
   "outputs": [
    {
     "name": "stdout",
     "output_type": "stream",
     "text": [
      "<class 'pandas.core.frame.DataFrame'>\n",
      "RangeIndex: 99441 entries, 0 to 99440\n",
      "Data columns (total 5 columns):\n",
      " #   Column                    Non-Null Count  Dtype \n",
      "---  ------                    --------------  ----- \n",
      " 0   customer_id               99441 non-null  object\n",
      " 1   customer_unique_id        99441 non-null  object\n",
      " 2   customer_zip_code_prefix  99441 non-null  int64 \n",
      " 3   customer_city             99441 non-null  object\n",
      " 4   customer_state            99441 non-null  object\n",
      "dtypes: int64(1), object(4)\n",
      "memory usage: 3.8+ MB\n"
     ]
    }
   ],
   "source": [
    "clientes.info()"
   ]
  },
  {
   "cell_type": "code",
   "execution_count": 38,
   "id": "cba6149a",
   "metadata": {},
   "outputs": [
    {
     "name": "stdout",
     "output_type": "stream",
     "text": [
      "Coluna: *customer_id* - >['06b8999e2fba1a1fbc88172c00ba8bc7' '18955e83d337fd6b2def6b18a428ac77'\n",
      " '4e7b3e00288586ebd08712fdd0374a03' ... '5e28dfe12db7fb50a4b2f691faecea5e'\n",
      " '56b18e2166679b8a959d72dd06da27f9' '274fa6071e5e17fe303b9748641082c8']\n",
      "\n",
      "Coluna: *customer_unique_id* - >['861eff4711a542e4b93843c6dd7febb0' '290c77bc529b7ac935b93aa66c333dc3'\n",
      " '060e732b5b29e8181a18229c7b0b2b5e' ... 'e9f50caf99f032f0bf3c55141f019d99'\n",
      " '73c2643a0a458b49f58cea58833b192e' '84732c5050c01db9b23e19ba39899398']\n",
      "\n",
      "Coluna: *customer_zip_code_prefix* - >[14409  9790  1151 ...  5538 74980 99043]\n",
      "\n",
      "Coluna: *customer_city* - >['franca' 'sao bernardo do campo' 'sao paulo' ... 'monte bonito'\n",
      " 'sao rafael' 'eugenio de castro']\n",
      "\n",
      "Coluna: *customer_state* - >['SP' 'SC' 'MG' 'PR' 'RJ' 'RS' 'PA' 'GO' 'ES' 'BA' 'MA' 'MS' 'CE' 'DF'\n",
      " 'RN' 'PE' 'MT' 'AM' 'AP' 'AL' 'RO' 'PB' 'TO' 'PI' 'AC' 'SE' 'RR']\n",
      "\n"
     ]
    }
   ],
   "source": [
    "def verificacao_valores_unicos(df):\n",
    "    print('Verificando os valores')\n",
    "    for coluna_v in df.columns:\n",
    "        print(f'Coluna: *{coluna_v}* - >{df[coluna_v].unique()}\\n')\n",
    "\n",
    "    print('Contando os Valores')\n",
    "    for coluna_c in df.columns:\n",
    "        print(f'{coluna_c} contagem: {df[coluna_c].value_counts()}')"
   ]
  },
  {
   "cell_type": "markdown",
   "id": "cc2007a2",
   "metadata": {},
   "source": [
    "# Analise Inicial "
   ]
  },
  {
   "cell_type": "markdown",
   "id": "73c00a7f",
   "metadata": {},
   "source": [
    "# Limpeza dos dados"
   ]
  }
 ],
 "metadata": {
  "kernelspec": {
   "display_name": "Python 3 (ipykernel)",
   "language": "python",
   "name": "python3"
  },
  "language_info": {
   "codemirror_mode": {
    "name": "ipython",
    "version": 3
   },
   "file_extension": ".py",
   "mimetype": "text/x-python",
   "name": "python",
   "nbconvert_exporter": "python",
   "pygments_lexer": "ipython3",
   "version": "3.11.4"
  },
  "toc": {
   "base_numbering": 1,
   "nav_menu": {},
   "number_sections": true,
   "sideBar": true,
   "skip_h1_title": false,
   "title_cell": "Table of Contents",
   "title_sidebar": "Contents",
   "toc_cell": false,
   "toc_position": {
    "height": "calc(100% - 180px)",
    "left": "10px",
    "top": "150px",
    "width": "165px"
   },
   "toc_section_display": true,
   "toc_window_display": true
  }
 },
 "nbformat": 4,
 "nbformat_minor": 5
}
