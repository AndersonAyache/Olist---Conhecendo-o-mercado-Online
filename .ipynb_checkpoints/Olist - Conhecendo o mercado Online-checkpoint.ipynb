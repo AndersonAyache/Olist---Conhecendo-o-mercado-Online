{
 "cells": [
  {
   "cell_type": "markdown",
   "id": "e3a17a1a",
   "metadata": {},
   "source": [
    "# Olist - Conhecendo o mercado Online"
   ]
  },
  {
   "cell_type": "markdown",
   "id": "39e720b1",
   "metadata": {},
   "source": [
    "A modalidade de vendas online já se consolidou em diversos modelos de negócio e continua a crescer a cada dia. Este estudo tem como propósito analisar as vendas realizadas pela empresa Olist, uma das líderes no setor de tecnologia e soluções para vendas online, no período de 2016 a 2018. Através dessa análise, buscamos responder a algumas perguntas fundamentais, tais como:\n",
    "\n",
    "- Quais estados apresentam o maior número de clientes?\n",
    "- Em quais estados há uma presença mais expressiva de vendedores ativos?\n",
    "- Quais estados se destacam em termos de volume de compras?\n",
    "- Quais clientes são os maiores gastadores?\n",
    "- Qual é a média de gastos por estado?\n",
    "- Até que ponto o valor do frete impacta nas decisões de compra?\n",
    "\n",
    "Para abordar essas questões, é essencial analisar os Dataframes disponíveis, os quais contêm informações sobre clientes, vendedores, avaliações, e outros aspectos que abrangem o ciclo completo, desde a compra até a entrega do produto.\n",
    "\n",
    "Ao examinar esses Dataframes, identificamos variáveis cruciais para compreender e responder às perguntas mencionadas, e até mesmo para formular novas questões. No entanto, é imperativo verificar cada variável, pois podem existir valores ausentes, tipos incorretos ou informações imprecisas."
   ]
  },
  {
   "cell_type": "markdown",
   "id": "cc2007a2",
   "metadata": {},
   "source": [
    "# Analise Inicial "
   ]
  },
  {
   "cell_type": "markdown",
   "id": "73c00a7f",
   "metadata": {},
   "source": [
    "# Limpeza dos dados"
   ]
  }
 ],
 "metadata": {
  "kernelspec": {
   "display_name": "Python 3 (ipykernel)",
   "language": "python",
   "name": "python3"
  },
  "language_info": {
   "codemirror_mode": {
    "name": "ipython",
    "version": 3
   },
   "file_extension": ".py",
   "mimetype": "text/x-python",
   "name": "python",
   "nbconvert_exporter": "python",
   "pygments_lexer": "ipython3",
   "version": "3.11.4"
  },
  "toc": {
   "base_numbering": 1,
   "nav_menu": {},
   "number_sections": true,
   "sideBar": true,
   "skip_h1_title": false,
   "title_cell": "Table of Contents",
   "title_sidebar": "Contents",
   "toc_cell": false,
   "toc_position": {
    "height": "calc(100% - 180px)",
    "left": "10px",
    "top": "150px",
    "width": "307.2px"
   },
   "toc_section_display": true,
   "toc_window_display": true
  }
 },
 "nbformat": 4,
 "nbformat_minor": 5
}
